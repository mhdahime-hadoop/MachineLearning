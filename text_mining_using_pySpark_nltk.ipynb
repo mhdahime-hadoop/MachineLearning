{
  "nbformat": 4,
  "nbformat_minor": 0,
  "metadata": {
    "colab": {
      "provenance": [],
      "authorship_tag": "ABX9TyP7gt/thN0AoR5dOYQfBGcu",
      "include_colab_link": true
    },
    "kernelspec": {
      "name": "python3",
      "display_name": "Python 3"
    },
    "language_info": {
      "name": "python"
    }
  },
  "cells": [
    {
      "cell_type": "markdown",
      "metadata": {
        "id": "view-in-github",
        "colab_type": "text"
      },
      "source": [
        "<a href=\"https://colab.research.google.com/github/mhdahime-hadoop/MachineLearning/blob/main/text_mining_using_pySpark_nltk.ipynb\" target=\"_parent\"><img src=\"https://colab.research.google.com/assets/colab-badge.svg\" alt=\"Open In Colab\"/></a>"
      ]
    },
    {
      "cell_type": "code",
      "execution_count": 14,
      "metadata": {
        "colab": {
          "base_uri": "https://localhost:8080/"
        },
        "id": "GTesFTY55T_r",
        "outputId": "81f91d64-3451-43f8-d05b-aab6ae5647bc"
      },
      "outputs": [
        {
          "output_type": "stream",
          "name": "stdout",
          "text": [
            "Requirement already satisfied: pyspark in /usr/local/lib/python3.11/dist-packages (3.5.1)\n",
            "Requirement already satisfied: py4j==0.10.9.7 in /usr/local/lib/python3.11/dist-packages (from pyspark) (0.10.9.7)\n"
          ]
        }
      ],
      "source": [
        "!pip install pyspark"
      ]
    },
    {
      "cell_type": "code",
      "source": [
        "!pip install pyspark nltk"
      ],
      "metadata": {
        "colab": {
          "base_uri": "https://localhost:8080/"
        },
        "id": "ZBt4uktt55BC",
        "outputId": "b8427a57-76ec-4e4c-fcfc-49338773e8f0"
      },
      "execution_count": 15,
      "outputs": [
        {
          "output_type": "stream",
          "name": "stdout",
          "text": [
            "Requirement already satisfied: pyspark in /usr/local/lib/python3.11/dist-packages (3.5.1)\n",
            "Requirement already satisfied: nltk in /usr/local/lib/python3.11/dist-packages (3.9.1)\n",
            "Requirement already satisfied: py4j==0.10.9.7 in /usr/local/lib/python3.11/dist-packages (from pyspark) (0.10.9.7)\n",
            "Requirement already satisfied: click in /usr/local/lib/python3.11/dist-packages (from nltk) (8.2.1)\n",
            "Requirement already satisfied: joblib in /usr/local/lib/python3.11/dist-packages (from nltk) (1.5.1)\n",
            "Requirement already satisfied: regex>=2021.8.3 in /usr/local/lib/python3.11/dist-packages (from nltk) (2024.11.6)\n",
            "Requirement already satisfied: tqdm in /usr/local/lib/python3.11/dist-packages (from nltk) (4.67.1)\n"
          ]
        }
      ]
    },
    {
      "cell_type": "code",
      "source": [
        "import nltk\n",
        "nltk.download('wordnet')\n",
        "nltk.download('omw-1.4')"
      ],
      "metadata": {
        "colab": {
          "base_uri": "https://localhost:8080/"
        },
        "id": "k3RO6YB_6LGw",
        "outputId": "5e39775c-8e55-4797-fa71-a5a0f5f3e2bc"
      },
      "execution_count": 16,
      "outputs": [
        {
          "output_type": "stream",
          "name": "stderr",
          "text": [
            "[nltk_data] Downloading package wordnet to /root/nltk_data...\n",
            "[nltk_data]   Package wordnet is already up-to-date!\n",
            "[nltk_data] Downloading package omw-1.4 to /root/nltk_data...\n",
            "[nltk_data]   Package omw-1.4 is already up-to-date!\n"
          ]
        },
        {
          "output_type": "execute_result",
          "data": {
            "text/plain": [
              "True"
            ]
          },
          "metadata": {},
          "execution_count": 16
        }
      ]
    },
    {
      "cell_type": "markdown",
      "source": [
        "nltk.download('<packages_name>')"
      ],
      "metadata": {
        "id": "7HyTviPk7g_7"
      }
    },
    {
      "cell_type": "code",
      "source": [
        "# Import necessary PySpark modules\n",
        "from pyspark.sql import SparkSession\n",
        "from pyspark.sql.functions import col\n",
        "from pyspark.ml.feature import Tokenizer, StopWordsRemover, HashingTF, IDF\n",
        "from pyspark.ml.classification import LogisticRegression\n",
        "from pyspark.ml import Pipeline\n",
        "from pyspark.ml.feature import StringIndexer\n",
        "from pyspark.ml.evaluation import MulticlassClassificationEvaluator"
      ],
      "metadata": {
        "id": "oh0fhjlk7gL7"
      },
      "execution_count": 17,
      "outputs": []
    },
    {
      "cell_type": "code",
      "source": [
        "#Import NLP Libraries for Stemming & Lemmatization\n",
        "from pyspark.sql.functions import udf\n",
        "from pyspark.sql.types import ArrayType, StringType\n",
        "from nltk.stem import PorterStemmer, WordNetLemmatizer"
      ],
      "metadata": {
        "id": "z1BAQjE17baV"
      },
      "execution_count": 18,
      "outputs": []
    },
    {
      "cell_type": "code",
      "source": [
        "#Define UDFs for Stemming & Lemmatization\n",
        "# Initialize Stemmer and Lemmatizer\n",
        "stemmer = PorterStemmer()\n",
        "lemmatizer = WordNetLemmatizer()\n",
        "\n",
        "# Define UDF for Stemming\n",
        "def stem_words(words):\n",
        "    return [stemmer.stem(word) for word in words]\n",
        "\n",
        "# Define UDF for Lemmatization\n",
        "def lemmatize_words(words):\n",
        "    return [lemmatizer.lemmatize(word) for word in words]\n",
        "\n",
        "# Convert Python functions to PySpark UDFs\n",
        "stem_udf = udf(stem_words, ArrayType(StringType()))\n",
        "lemma_udf = udf(lemmatize_words, ArrayType(StringType()))"
      ],
      "metadata": {
        "id": "TZ0w0ujm7yKQ"
      },
      "execution_count": 19,
      "outputs": []
    },
    {
      "cell_type": "code",
      "source": [
        "# Create a Spark session\n",
        "spark = SparkSession.builder.appName(\"DocumentClassificationTFIDF\").getOrCreate()"
      ],
      "metadata": {
        "id": "Ggwp4K8B8oni"
      },
      "execution_count": 20,
      "outputs": []
    },
    {
      "cell_type": "code",
      "source": [
        "# Load & Preprocess Data (Tokenization, Stopword Removal, Stemming, Lemmatization)\n",
        "# Sample dataset\n",
        "data = [(0,\"Cloud computing is becoming increasingly important for businesses\",\"Technology\"),\n",
        " (1, \"Basketball players are preparing for the next tournament\", \"Sports\"),\n",
        " (2,\"Machine learning has revolutionized the way data is processed\",\"Technology\"),\n",
        " (3, \"Political campaigns are gearing up for the upcoming elections\",\"Politics\"),\n",
        " (4, \"The football team has been training hard for the upcoming season\", \"Sports\"),\n",
        " (5,\"International relations are being discussed in diplomatic meetings\",\"Politics\"),\n",
        " (6, \"The president addressed the nation in a live broadcast\", \"Politics\"),\n",
        " (7, \"Tennis players are practicing for the grand slam matches\", \"Sports\"),\n",
        " (8,\"Machine learning has revolutionized the way data is processed\",\"Technology\"),\n",
        " (9, \"Stock trading has become a popular way to build wealth\", \"Finance\"),\n",
        " (10, \"5G technology is expected to significantly improve communication speeds\",\"Technology\"),\n",
        " (11,\"Political campaigns are gearing up for the upcoming elections\",\"Politics\"),\n",
        " (12,\n",
        "  \"Machine learning has revolutionized the way data is processed\",\n",
        "  \"Technology\"),\n",
        " (13,\n",
        "  \"Investors are looking for high-yield bonds in the current market\",\n",
        "  \"Finance\"),\n",
        " (14,\n",
        "  \"Quantum computing holds promise for solving complex problems\",\n",
        "  \"Technology\"),\n",
        " (15,\n",
        "  \"Cloud computing is becoming increasingly important for businesses\",\n",
        "  \"Technology\"),\n",
        " (16, \"The Formula 1 race track is set to host the next grand prix\", \"Sports\"),\n",
        " (17,\n",
        "  \"Financial experts are advising on diversifying investment portfolios\",\n",
        "  \"Finance\"),\n",
        " (18, \"Stock trading has become a popular way to build wealth\", \"Finance\"),\n",
        " (19, \"Stock trading has become a popular way to build wealth\", \"Finance\"),\n",
        " (20,\n",
        "  \"International relations are being discussed in diplomatic meetings\",\n",
        "  \"Politics\"),\n",
        " (21, \"The Formula 1 race track is set to host the next grand prix\", \"Sports\"),\n",
        " (22,\n",
        "  \"Political campaigns are gearing up for the upcoming elections\",\n",
        "  \"Politics\"),\n",
        " (23,\n",
        "  \"Machine learning has revolutionized the way data is processed\",\n",
        "  \"Technology\"),\n",
        " (24,\n",
        "  \"The football team has been training hard for the upcoming season\",\n",
        "  \"Sports\"),\n",
        " (25, \"Tennis players are practicing for the grand slam matches\", \"Sports\"),\n",
        " (26, \"Tennis players are practicing for the grand slam matches\", \"Sports\"),\n",
        " (27,\n",
        "  \"Political campaigns are gearing up for the upcoming elections\",\n",
        "  \"Politics\"),\n",
        " (28,\n",
        "  \"The real estate market has seen significant growth in the past decade\",\n",
        "  \"Finance\"),\n",
        " (29,\n",
        "  \"Financial experts are advising on diversifying investment portfolios\",\n",
        "  \"Finance\")]\n",
        "df = spark.createDataFrame(data, [\"id\", \"text\", \"category\"])\n",
        "\n",
        "# Tokenization\n",
        "tokenizer = Tokenizer(inputCol=\"text\", outputCol=\"words\")"
      ],
      "metadata": {
        "id": "_djcPXZ28wRK"
      },
      "execution_count": 21,
      "outputs": []
    },
    {
      "cell_type": "code",
      "source": [
        "df.show(5)"
      ],
      "metadata": {
        "colab": {
          "base_uri": "https://localhost:8080/"
        },
        "id": "CMttvaIi8_dh",
        "outputId": "06c74205-210d-4013-fe80-c281f1732b86"
      },
      "execution_count": 22,
      "outputs": [
        {
          "output_type": "stream",
          "name": "stdout",
          "text": [
            "+---+--------------------+----------+\n",
            "| id|                text|  category|\n",
            "+---+--------------------+----------+\n",
            "|  0|Cloud computing i...|Technology|\n",
            "|  1|Basketball player...|    Sports|\n",
            "|  2|Machine learning ...|Technology|\n",
            "|  3|Political campaig...|  Politics|\n",
            "|  4|The football team...|    Sports|\n",
            "+---+--------------------+----------+\n",
            "only showing top 5 rows\n",
            "\n"
          ]
        }
      ]
    },
    {
      "cell_type": "code",
      "source": [
        "# Tokenization\n",
        "tokenizer = Tokenizer(inputCol=\"text\", outputCol=\"words\")\n",
        "df = tokenizer.transform(df)"
      ],
      "metadata": {
        "id": "OKhgT0OS9Z-8"
      },
      "execution_count": 23,
      "outputs": []
    },
    {
      "cell_type": "code",
      "source": [
        "# Stopword Removal\n",
        "remover = StopWordsRemover(inputCol=\"words\", outputCol=\"filtered_words\")\n",
        "df = remover.transform(df)"
      ],
      "metadata": {
        "id": "7UD7mKOt9axl"
      },
      "execution_count": 24,
      "outputs": []
    },
    {
      "cell_type": "code",
      "source": [
        "# Apply Stemming\n",
        "df = df.withColumn(\"stemmed_words\", stem_udf(col(\"filtered_words\")))"
      ],
      "metadata": {
        "id": "-65ufYR09csV"
      },
      "execution_count": 25,
      "outputs": []
    },
    {
      "cell_type": "code",
      "source": [
        "# Apply Lemmatization\n",
        "df = df.withColumn(\"lemmatized_words\", lemma_udf(col(\"filtered_words\")))"
      ],
      "metadata": {
        "id": "P5KrS44W9-jj"
      },
      "execution_count": 26,
      "outputs": []
    },
    {
      "cell_type": "code",
      "source": [
        "# Show Results\n",
        "df.select(\"text\", \"filtered_words\", \"stemmed_words\", \"lemmatized_words\").show(truncate=False)"
      ],
      "metadata": {
        "colab": {
          "base_uri": "https://localhost:8080/"
        },
        "id": "1fePkUlz-BDo",
        "outputId": "d4d2d2c2-59a1-47b3-d5b3-8508c210101c"
      },
      "execution_count": 27,
      "outputs": [
        {
          "output_type": "stream",
          "name": "stdout",
          "text": [
            "+-----------------------------------------------------------------------+-------------------------------------------------------------------------+-------------------------------------------------------------+------------------------------------------------------------------------+\n",
            "|text                                                                   |filtered_words                                                           |stemmed_words                                                |lemmatized_words                                                        |\n",
            "+-----------------------------------------------------------------------+-------------------------------------------------------------------------+-------------------------------------------------------------+------------------------------------------------------------------------+\n",
            "|Cloud computing is becoming increasingly important for businesses      |[cloud, computing, becoming, increasingly, important, businesses]        |[cloud, comput, becom, increasingli, import, busi]           |[cloud, computing, becoming, increasingly, important, business]         |\n",
            "|Basketball players are preparing for the next tournament               |[basketball, players, preparing, next, tournament]                       |[basketbal, player, prepar, next, tournament]                |[basketball, player, preparing, next, tournament]                       |\n",
            "|Machine learning has revolutionized the way data is processed          |[machine, learning, revolutionized, way, data, processed]                |[machin, learn, revolution, way, data, process]              |[machine, learning, revolutionized, way, data, processed]               |\n",
            "|Political campaigns are gearing up for the upcoming elections          |[political, campaigns, gearing, upcoming, elections]                     |[polit, campaign, gear, upcom, elect]                        |[political, campaign, gearing, upcoming, election]                      |\n",
            "|The football team has been training hard for the upcoming season       |[football, team, training, hard, upcoming, season]                       |[footbal, team, train, hard, upcom, season]                  |[football, team, training, hard, upcoming, season]                      |\n",
            "|International relations are being discussed in diplomatic meetings     |[international, relations, discussed, diplomatic, meetings]              |[intern, relat, discuss, diplomat, meet]                     |[international, relation, discussed, diplomatic, meeting]               |\n",
            "|The president addressed the nation in a live broadcast                 |[president, addressed, nation, live, broadcast]                          |[presid, address, nation, live, broadcast]                   |[president, addressed, nation, live, broadcast]                         |\n",
            "|Tennis players are practicing for the grand slam matches               |[tennis, players, practicing, grand, slam, matches]                      |[tenni, player, practic, grand, slam, match]                 |[tennis, player, practicing, grand, slam, match]                        |\n",
            "|Machine learning has revolutionized the way data is processed          |[machine, learning, revolutionized, way, data, processed]                |[machin, learn, revolution, way, data, process]              |[machine, learning, revolutionized, way, data, processed]               |\n",
            "|Stock trading has become a popular way to build wealth                 |[stock, trading, become, popular, way, build, wealth]                    |[stock, trade, becom, popular, way, build, wealth]           |[stock, trading, become, popular, way, build, wealth]                   |\n",
            "|5G technology is expected to significantly improve communication speeds|[5g, technology, expected, significantly, improve, communication, speeds]|[5g, technolog, expect, significantli, improv, commun, speed]|[5g, technology, expected, significantly, improve, communication, speed]|\n",
            "|Political campaigns are gearing up for the upcoming elections          |[political, campaigns, gearing, upcoming, elections]                     |[polit, campaign, gear, upcom, elect]                        |[political, campaign, gearing, upcoming, election]                      |\n",
            "|Machine learning has revolutionized the way data is processed          |[machine, learning, revolutionized, way, data, processed]                |[machin, learn, revolution, way, data, process]              |[machine, learning, revolutionized, way, data, processed]               |\n",
            "|Investors are looking for high-yield bonds in the current market       |[investors, looking, high-yield, bonds, current, market]                 |[investor, look, high-yield, bond, current, market]          |[investor, looking, high-yield, bond, current, market]                  |\n",
            "|Quantum computing holds promise for solving complex problems           |[quantum, computing, holds, promise, solving, complex, problems]         |[quantum, comput, hold, promis, solv, complex, problem]      |[quantum, computing, hold, promise, solving, complex, problem]          |\n",
            "|Cloud computing is becoming increasingly important for businesses      |[cloud, computing, becoming, increasingly, important, businesses]        |[cloud, comput, becom, increasingli, import, busi]           |[cloud, computing, becoming, increasingly, important, business]         |\n",
            "|The Formula 1 race track is set to host the next grand prix            |[formula, 1, race, track, set, host, next, grand, prix]                  |[formula, 1, race, track, set, host, next, grand, prix]      |[formula, 1, race, track, set, host, next, grand, prix]                 |\n",
            "|Financial experts are advising on diversifying investment portfolios   |[financial, experts, advising, diversifying, investment, portfolios]     |[financi, expert, advis, diversifi, invest, portfolio]       |[financial, expert, advising, diversifying, investment, portfolio]      |\n",
            "|Stock trading has become a popular way to build wealth                 |[stock, trading, become, popular, way, build, wealth]                    |[stock, trade, becom, popular, way, build, wealth]           |[stock, trading, become, popular, way, build, wealth]                   |\n",
            "|Stock trading has become a popular way to build wealth                 |[stock, trading, become, popular, way, build, wealth]                    |[stock, trade, becom, popular, way, build, wealth]           |[stock, trading, become, popular, way, build, wealth]                   |\n",
            "+-----------------------------------------------------------------------+-------------------------------------------------------------------------+-------------------------------------------------------------+------------------------------------------------------------------------+\n",
            "only showing top 20 rows\n",
            "\n"
          ]
        }
      ]
    },
    {
      "cell_type": "code",
      "source": [
        "# Compute TF-IDF After Preprocessing\n",
        "# Apply HashingTF to the lemmatized words\n",
        "hashingTF = HashingTF(inputCol=\"lemmatized_words\", outputCol=\"raw_features\", numFeatures=500)\n",
        "df = hashingTF.transform(df)\n",
        "\n",
        "# Compute IDF\n",
        "idf = IDF(inputCol=\"raw_features\", outputCol=\"features\")\n",
        "idf_model = idf.fit(df)\n",
        "df = idf_model.transform(df)\n",
        "\n",
        "# Show TF-IDF Features\n",
        "df.select(\"text\", \"features\").show(truncate=False)"
      ],
      "metadata": {
        "colab": {
          "base_uri": "https://localhost:8080/"
        },
        "id": "USSJYyGZ-OTU",
        "outputId": "81c60dc3-4b8a-4565-c6ac-e77cb5f22c48"
      },
      "execution_count": 28,
      "outputs": [
        {
          "output_type": "stream",
          "name": "stdout",
          "text": [
            "+-----------------------------------------------------------------------+---------------------------------------------------------------------------------------------------------------------------------------------------------------------------------------------------------------------+\n",
            "|text                                                                   |features                                                                                                                                                                                                             |\n",
            "+-----------------------------------------------------------------------+---------------------------------------------------------------------------------------------------------------------------------------------------------------------------------------------------------------------+\n",
            "|Cloud computing is becoming increasingly important for businesses      |(500,[13,287,345,374,467,480],[2.3353749158170367,2.3353749158170367,2.0476928433652555,2.3353749158170367,2.3353749158170367,2.3353749158170367])                                                                   |\n",
            "|Basketball players are preparing for the next tournament               |(500,[63,104,243,273,367],[2.740840023925201,1.488077055429833,2.740840023925201,2.0476928433652555,2.740840023925201])                                                                                              |\n",
            "|Machine learning has revolutionized the way data is processed          |(500,[40,65,72,195,360,391],[1.0360919316867758,1.824549292051046,1.824549292051046,1.824549292051046,1.824549292051046,1.3545456628053103])                                                                         |\n",
            "|Political campaigns are gearing up for the upcoming elections          |(500,[40,132,175,435,461],[1.0360919316867758,1.824549292051046,1.824549292051046,1.824549292051046,1.824549292051046])                                                                                              |\n",
            "|The football team has been training hard for the upcoming season       |(500,[38,40,104,125,358,468],[2.3353749158170367,1.0360919316867758,1.488077055429833,2.3353749158170367,2.3353749158170367,2.3353749158170367])                                                                     |\n",
            "|International relations are being discussed in diplomatic meetings     |(500,[20,60,188,208,479],[2.0476928433652555,2.3353749158170367,2.3353749158170367,2.3353749158170367,2.3353749158170367])                                                                                           |\n",
            "|The president addressed the nation in a live broadcast                 |(500,[14,244,251,306,493],[1.824549292051046,2.740840023925201,2.740840023925201,2.740840023925201,2.740840023925201])                                                                                               |\n",
            "|Tennis players are practicing for the grand slam matches               |(500,[90,94,104,226,293,456],[1.236762627148927,2.0476928433652555,1.488077055429833,2.0476928433652555,1.488077055429833,2.0476928433652555])                                                                       |\n",
            "|Machine learning has revolutionized the way data is processed          |(500,[40,65,72,195,360,391],[1.0360919316867758,1.824549292051046,1.824549292051046,1.824549292051046,1.824549292051046,1.3545456628053103])                                                                         |\n",
            "|Stock trading has become a popular way to build wealth                 |(500,[14,90,148,293,391,490],[1.824549292051046,2.473525254297854,2.0476928433652555,1.488077055429833,1.3545456628053103,2.0476928433652555])                                                                       |\n",
            "|5G technology is expected to significantly improve communication speeds|(500,[20,143,164,171,292,408,482],[2.0476928433652555,2.740840023925201,2.740840023925201,2.740840023925201,2.740840023925201,2.740840023925201,2.740840023925201])                                                  |\n",
            "|Political campaigns are gearing up for the upcoming elections          |(500,[40,132,175,435,461],[1.0360919316867758,1.824549292051046,1.824549292051046,1.824549292051046,1.824549292051046])                                                                                              |\n",
            "|Machine learning has revolutionized the way data is processed          |(500,[40,65,72,195,360,391],[1.0360919316867758,1.824549292051046,1.824549292051046,1.824549292051046,1.824549292051046,1.3545456628053103])                                                                         |\n",
            "|Investors are looking for high-yield bonds in the current market       |(500,[147,157,189,232,248,436],[2.740840023925201,2.3353749158170367,2.740840023925201,2.740840023925201,2.740840023925201,2.740840023925201])                                                                       |\n",
            "|Quantum computing holds promise for solving complex problems           |(500,[53,56,198,333,345,355,389],[2.740840023925201,2.740840023925201,2.740840023925201,2.740840023925201,2.0476928433652555,2.740840023925201,2.740840023925201])                                                   |\n",
            "|Cloud computing is becoming increasingly important for businesses      |(500,[13,287,345,374,467,480],[2.3353749158170367,2.3353749158170367,2.0476928433652555,2.3353749158170367,2.3353749158170367,2.3353749158170367])                                                                   |\n",
            "|The Formula 1 race track is set to host the next grand prix            |(500,[90,95,102,273,342,413,431,452,454],[1.236762627148927,2.3353749158170367,2.3353749158170367,2.0476928433652555,2.3353749158170367,2.3353749158170367,2.3353749158170367,2.3353749158170367,2.3353749158170367])|\n",
            "|Financial experts are advising on diversifying investment portfolios   |(500,[62,93,161,178,407,414],[2.3353749158170367,2.3353749158170367,2.3353749158170367,2.3353749158170367,2.3353749158170367,2.3353749158170367])                                                                    |\n",
            "|Stock trading has become a popular way to build wealth                 |(500,[14,90,148,293,391,490],[1.824549292051046,2.473525254297854,2.0476928433652555,1.488077055429833,1.3545456628053103,2.0476928433652555])                                                                       |\n",
            "|Stock trading has become a popular way to build wealth                 |(500,[14,90,148,293,391,490],[1.824549292051046,2.473525254297854,2.0476928433652555,1.488077055429833,1.3545456628053103,2.0476928433652555])                                                                       |\n",
            "+-----------------------------------------------------------------------+---------------------------------------------------------------------------------------------------------------------------------------------------------------------------------------------------------------------+\n",
            "only showing top 20 rows\n",
            "\n"
          ]
        }
      ]
    },
    {
      "cell_type": "code",
      "source": [
        "#Step 5: Train & Evaluate Logistic Regression Classifier\n",
        "\n",
        "# Convert category labels to numerical labels\n",
        "indexer = StringIndexer(inputCol=\"category\", outputCol=\"label\")\n",
        "df = indexer.fit(df).transform(df)\n",
        "df.select(\"category\", \"label\").distinct().show()\n",
        "# Split Data\n",
        "train_data, test_data = df.randomSplit([0.8, 0.2], seed=42)\n",
        "\n",
        "# Train Logistic Regression Model\n",
        "lr = LogisticRegression(featuresCol=\"features\", labelCol=\"label\")\n",
        "lr_model = lr.fit(train_data)\n",
        "\n",
        "# Predictions\n",
        "predictions = lr_model.transform(test_data)\n",
        "predictions.select(\"text\", \"category\", \"prediction\").show(truncate=False)\n",
        "\n",
        "# Evaluate Model Accuracy\n",
        "evaluator = MulticlassClassificationEvaluator(labelCol=\"label\", predictionCol=\"prediction\", metricName=\"accuracy\")\n",
        "accuracy_tf_idf = evaluator.evaluate(predictions)\n",
        "print(f\"TF-IDF Model Accuracy: {accuracy_tf_idf:.2f}\")"
      ],
      "metadata": {
        "colab": {
          "base_uri": "https://localhost:8080/"
        },
        "id": "1xen8muK-3oh",
        "outputId": "213a2c3a-1109-4280-9cad-68d8dfa9d22f"
      },
      "execution_count": 29,
      "outputs": [
        {
          "output_type": "stream",
          "name": "stdout",
          "text": [
            "+----------+-----+\n",
            "|  category|label|\n",
            "+----------+-----+\n",
            "|    Sports|  0.0|\n",
            "|  Politics|  3.0|\n",
            "|   Finance|  2.0|\n",
            "|Technology|  1.0|\n",
            "+----------+-----+\n",
            "\n",
            "+--------------------------------------------------------------------+----------+----------+\n",
            "|text                                                                |category  |prediction|\n",
            "+--------------------------------------------------------------------+----------+----------+\n",
            "|Machine learning has revolutionized the way data is processed       |Technology|1.0       |\n",
            "|The president addressed the nation in a live broadcast              |Politics  |2.0       |\n",
            "|Machine learning has revolutionized the way data is processed       |Technology|1.0       |\n",
            "|Investors are looking for high-yield bonds in the current market    |Finance   |2.0       |\n",
            "|Cloud computing is becoming increasingly important for businesses   |Technology|1.0       |\n",
            "|International relations are being discussed in diplomatic meetings  |Politics  |3.0       |\n",
            "|The Formula 1 race track is set to host the next grand prix         |Sports    |0.0       |\n",
            "|Financial experts are advising on diversifying investment portfolios|Finance   |2.0       |\n",
            "+--------------------------------------------------------------------+----------+----------+\n",
            "\n",
            "TF-IDF Model Accuracy: 0.88\n"
          ]
        }
      ]
    },
    {
      "cell_type": "code",
      "source": [
        "df.select(\"category\", \"label\").distinct().show()"
      ],
      "metadata": {
        "colab": {
          "base_uri": "https://localhost:8080/"
        },
        "id": "HgMkGCGh_QFE",
        "outputId": "31a0d2eb-79cf-49d5-eb7a-a7da2bc8c5ed"
      },
      "execution_count": 30,
      "outputs": [
        {
          "output_type": "stream",
          "name": "stdout",
          "text": [
            "+----------+-----+\n",
            "|  category|label|\n",
            "+----------+-----+\n",
            "|    Sports|  0.0|\n",
            "|  Politics|  3.0|\n",
            "|   Finance|  2.0|\n",
            "|Technology|  1.0|\n",
            "+----------+-----+\n",
            "\n"
          ]
        }
      ]
    },
    {
      "cell_type": "code",
      "source": [
        "#Train Word2Vec Model\n",
        "#import Word2Vec\n",
        "from pyspark.ml.feature import Word2Vec # Import Word2Vec here\n",
        "word2Vec = Word2Vec(vectorSize=100, minCount=1, inputCol=\"lemmatized_words\", outputCol=\"featuresW2Vector\")\n",
        "word2Vec_model = word2Vec.fit(df)\n",
        "df = word2Vec_model.transform(df)\n",
        "\n",
        "df.select(\"text\", \"featuresW2Vector\").show(truncate=False)"
      ],
      "metadata": {
        "colab": {
          "base_uri": "https://localhost:8080/"
        },
        "id": "rzwA7RM-_e-b",
        "outputId": "b5494709-58e4-44c5-88ce-c39ea6ded46d"
      },
      "execution_count": 31,
      "outputs": [
        {
          "output_type": "stream",
          "name": "stdout",
          "text": [
            "+-----------------------------------------------------------------------+----------------------------------------------------------------------------------------------------------------------------------------------------------------------------------------------------------------------------------------------------------------------------------------------------------------------------------------------------------------------------------------------------------------------------------------------------------------------------------------------------------------------------------------------------------------------------------------------------------------------------------------------------------------------------------------------------------------------------------------------------------------------------------------------------------------------------------------------------------------------------------------------------------------------------------------------------------------------------------------------------------------------------------------------------------------------------------------------------------------------------------------------------------------------------------------------------------------------------------------------------------------------------------------------------------------------------------------------------------------------------------------------------------------------------------------------------------------------------------------------------------------------------------------------------------------------------------------------------------------------------------------------------------------------------------------------------------------------------------------------------------------------------------------------------------------------------------------------------------------------------------------------------------------------------------------------------------------------------------------------------------------------------------------------------------------------------------------------------------------------------------------------------------------------------------------------------------------------------------------------------------------------------------------------------------+\n",
            "|text                                                                   |featuresW2Vector                                                                                                                                                                                                                                                                                                                                                                                                                                                                                                                                                                                                                                                                                                                                                                                                                                                                                                                                                                                                                                                                                                                                                                                                                                                                                                                                                                                                                                                                                                                                                                                                                                                                                                                                                                                                                                                                                                                                                                                                                                                                                                                                                                                                                                                                                          |\n",
            "+-----------------------------------------------------------------------+----------------------------------------------------------------------------------------------------------------------------------------------------------------------------------------------------------------------------------------------------------------------------------------------------------------------------------------------------------------------------------------------------------------------------------------------------------------------------------------------------------------------------------------------------------------------------------------------------------------------------------------------------------------------------------------------------------------------------------------------------------------------------------------------------------------------------------------------------------------------------------------------------------------------------------------------------------------------------------------------------------------------------------------------------------------------------------------------------------------------------------------------------------------------------------------------------------------------------------------------------------------------------------------------------------------------------------------------------------------------------------------------------------------------------------------------------------------------------------------------------------------------------------------------------------------------------------------------------------------------------------------------------------------------------------------------------------------------------------------------------------------------------------------------------------------------------------------------------------------------------------------------------------------------------------------------------------------------------------------------------------------------------------------------------------------------------------------------------------------------------------------------------------------------------------------------------------------------------------------------------------------------------------------------------------+\n",
            "|Cloud computing is becoming increasingly important for businesses      |[-0.0013035552910878323,0.001647993572987616,-3.67459363284676E-4,8.434196546052892E-4,-0.001447355830653881,7.043843700860937E-4,0.0012243633100297302,0.0015407461372281734,0.0013335138282855041,-0.001355230361999323,-1.1656831096236903E-5,9.84251140228783E-4,0.0011670102321659215,-6.22124539707632E-4,0.0011892962211277336,-2.5553904318561155E-4,0.0014083106070756912,-2.089372428599745E-4,0.0020790522491248944,-3.497454417811241E-5,7.951292306339989E-4,-8.692647194645057E-4,-3.703148104250431E-4,2.0024151308462024E-4,-6.671108567388728E-4,0.0016632164964297165,0.001201000646688044,0.0018727744366818417,-0.0016267499498402078,0.002096256104171819,-0.0013072639509725073,8.351691843320925E-4,-0.0027265276100176075,-0.0011505268970116351,-0.0018200161284767091,-0.0015065853270546843,-2.4807339650578797E-4,-0.0010717117323414034,7.854157496088494E-4,5.887608470705648E-4,0.002615874807815999,1.1640358328198392E-5,-0.0012836001502970853,-0.001180371684313286,0.001431068405508995,-0.002183766511734575,0.0020235738678214448,-7.328530676507701E-4,-4.1621318086981773E-4,-0.0014142259606160223,-1.3978578499518335E-4,6.903339138564963E-4,3.986061262063837E-4,0.0018133058620151132,9.637251108263929E-4,-0.0018996036378666759,3.030840404486904E-4,0.001161539121919001,8.900212221002827E-4,-0.0015537454067574192,5.775780106584231E-4,-9.737809802269718E-4,2.9872029942149914E-4,1.0212867831190427E-4,4.483328666538E-5,-1.539214669416348E-4,0.002934654631341497,-3.047616513261649E-4,-0.0019604816916398704,7.448870407339806E-4,-3.6781825474463403E-4,-0.002538378699682653,-2.8505001682788134E-4,6.443904082213217E-5,0.0017115740223137739,0.0013279852913304542,9.588496565508345E-4,0.0017175107301833728,7.505016537834308E-4,-1.0194675996899605E-4,-0.0010791494181224455,0.0011193495496020962,-3.339577791242239E-4,9.355478250654414E-4,2.1689188846115332E-5,1.26025681917478E-4,0.0013287079345900565,-4.439844148388753E-5,0.0017179759549132236,-0.0023155051652186858,-4.56337962532416E-4,0.0010026869228264936,-0.0023820915569861727,-0.0015929276899745066,9.811320220857547E-4,3.631272484199144E-4,-0.0015504496307888378,-0.0010707100833921381,5.328533394883076E-4,-0.0011723832382510104]                           |\n",
            "|Basketball players are preparing for the next tournament               |[-2.8402575990185144E-4,7.293818402104081E-4,-9.890265937428921E-5,5.708121985662729E-4,3.5288061480969195E-4,-2.5733188958838583E-4,0.0011511164135299624,4.421483376063407E-4,-9.548555128276349E-4,4.074377357028425E-4,0.002295727701857686,3.822477534413338E-4,0.002149646368343383,0.0014074038481339812,2.4104242329485716E-4,0.0025860959256533535,-6.192899425514043E-4,-0.0026375254150480033,-7.261879043653608E-4,3.6525903269648554E-4,4.5182891190052036E-4,7.093302090652288E-4,6.947461137315259E-4,-0.002236059168353677,0.0010274355037836358,-4.88174450583756E-4,0.0015167357407335658,-6.499404669739307E-4,-9.102651616558433E-4,-4.0668512228876353E-4,-4.279031185433269E-4,0.0010813529195729643,-2.706923056393862E-4,1.4554144581779838E-4,-0.0012604295974597336,3.739695763215423E-4,-7.28229689411819E-4,7.889049389632419E-4,-0.0015624696417944506,4.54126566182822E-4,-3.1353111844509843E-4,-0.002199897018726915,0.0015612972027156504,8.801471558399498E-4,-2.361314283916727E-4,6.135444389656187E-4,-0.001562957384157926,0.0016691147116944195,7.013746537268162E-4,-6.580948363989592E-4,0.0018097210675477983,-3.938760841265321E-4,-6.660011247731746E-4,2.3736190705676564E-4,7.452738063875586E-4,-0.0010386667774582748,-0.0015669675078243018,-6.058221915736794E-4,-7.604387705214322E-4,0.0024926645448431375,-3.4486383665353063E-4,8.661980042234063E-4,-0.0011148067307658494,0.0011683440243359655,-0.0011301598860882223,-4.0152144501917066E-4,-0.0017296123318374158,9.896956034936011E-5,0.0015081439400091768,0.002297225487200194,-0.0010233049571979791,-0.002325647044926882,2.2294836817309262E-4,0.0015967437531799078,0.0012550763553008438,-0.0010639993939548732,-0.002499362570233643,-0.0018236910225823523,-1.3987028505653144E-4,-3.8858041807543486E-4,0.0024397286120802168,-3.585039172321558E-4,8.824114338494837E-4,8.738354430533946E-4,-9.170200908556581E-4,-2.6966734731104225E-4,6.676727207377553E-4,-1.0797822324093432E-5,-0.0011645457358099522,4.388002562336624E-5,8.8678696192801E-4,6.035531754605473E-4,-8.531716652214528E-4,-3.468406153842807E-4,0.0017169794067740441,-6.369267357513309E-4,-0.0013745803385972978,-6.295377854257822E-4,-8.355836383998395E-4,1.0904524242505431E-4]                        |\n",
            "|Machine learning has revolutionized the way data is processed          |[2.732111606746912E-4,0.0023551584842304387,8.570121353841387E-4,-7.542653547716327E-4,2.797327712566281E-4,3.4961989877047017E-4,0.0011919960379600525,9.779266353386143E-5,-1.3020439564570552E-4,3.0346048394373304E-4,4.722525676091512E-4,0.0018020458325433233,-3.0148336372803897E-4,-7.947354558079193E-4,4.6415391746753204E-4,1.058005218510516E-4,-2.127160259988159E-4,-7.471009582028879E-4,3.343296702951193E-4,0.0019960269176711636,0.003953682685581346,0.0012246227900808055,-6.678382633253932E-4,1.636716672995438E-4,7.391943751523892E-4,0.0021556900658955174,3.921621294769769E-4,7.140505064550476E-4,-2.7759134536609054E-4,7.245290908031166E-4,-0.0012048540035417923,0.0011226430845757325,5.3136046820630625E-5,0.0010478522938986619,-0.0028323144894481325,0.0012376232528671,4.621368328419824E-4,-3.7703680573031306E-4,-0.0015623777435394004,-6.061174790374935E-4,-6.378137583548474E-4,0.0016595018484319248,0.002229065452411305,4.313892762487133E-4,2.7434535635014373E-4,6.7082554839241E-4,0.0015970207314239815,-1.7620465951040387E-4,-0.0013638644304592162,0.0017087255837395787,0.00118515877208362,9.202667861245573E-4,8.784560486674309E-4,-0.001948166541599979,-0.0020239915853987136,5.525833015174915E-4,0.0010292752704117447,-6.591166990498701E-4,0.0014649179453651109,1.6026928885063776E-4,-0.0014877426874591038,-0.0015220084508958582,3.7591987347695976E-4,0.0013704786882347737,2.5148747954517603E-4,5.933729601868738E-4,2.100789570249617E-4,-0.002076170193807532,9.835228314235185E-4,6.725715744930009E-4,-0.0022767713574770214,-0.001457370090065524,-9.198669868055731E-4,0.0018185306350157284,-0.003189586578325058,4.3412360052267707E-4,-0.0014505864819511771,-0.0017698915689834394,0.002396579327372213,0.0011873801753002529,7.842670214207221E-4,-0.0016073043952928856,-7.799936574883759E-4,7.324103207793087E-4,-1.5375395499480266E-4,7.573651576725144E-4,7.344401480319599E-4,-0.0015939393391211827,-0.0027736009239257933,-4.170460839911053E-4,-0.0013121914841273488,-9.828174952417612E-4,1.264804304810241E-4,0.0011827202203373113,0.001238977536559105,-0.0021457028148385384,-3.459893826705714E-4,4.1058822049914545E-4,-0.0018050707500757803,0.0010349808144383132]                                 |\n",
            "|Political campaigns are gearing up for the upcoming elections          |[-0.0011905164225026966,-2.894773962907493E-4,3.22282942943275E-4,-0.0016862189397215844,-4.657726734876633E-4,-4.4238532427698374E-4,-9.214198216795922E-5,-0.0014845647383481264,0.0020239397912519053,0.0019065968052018436,8.881616406142712E-4,0.002251468785107136,-5.493359407410025E-4,-0.0019342167011927815,-5.194152588956059E-4,-0.0010952859302051365,0.0032382159493863586,5.230706301517785E-4,-0.00111335493857041,-0.001903608348220587,3.062662435695529E-4,-0.0023094620904885233,-9.266895183827729E-4,-1.365513540804386E-4,9.031892732309643E-4,0.0018701513297855856,-0.0015521470224484802,-0.003117732726968825,4.741617129184306E-4,0.0025627592578530314,-0.0032112705986946824,5.664996220730245E-4,-1.2385441223159433E-4,-6.27567048650235E-4,-0.0018085195682942868,-9.80605947552249E-4,0.0013603922445327044,0.0015135920955799522,-1.7303181812167168E-4,0.002319444005843252,0.0011568341462407262,-0.0024901932338252664,0.0019031161755265202,-0.0013141995295882225,0.001319905265700072,-0.0011508664814755321,0.0023222396150231364,-0.0018471592571586372,-2.451468608342111E-4,0.003412070032209158,0.003995734918862581,-6.284920964390039E-5,3.944690433854703E-4,-6.210352818015963E-4,0.0011875687399879099,-1.1102412827312946E-5,-4.2215509747620675E-4,0.0019615520024672153,-3.682812908664346E-4,-0.0032007270492613316,0.0032906407024711373,-6.973972718697041E-4,-4.846757743507624E-4,-0.0010169995483011007,-6.953282572794706E-4,0.0017994269474002067,-1.949210767634213E-4,-1.4216694398783147E-4,9.942395525285974E-4,7.995509775355459E-4,-6.328468851279468E-4,-2.090784371830523E-4,4.9810018390417104E-5,-9.492361146840267E-4,6.421693367883564E-4,-0.002909523085691035,-0.0013176943873986604,7.28735188022256E-4,0.0018214614596217872,-0.001117125852033496,4.908479750156403E-4,7.409095123875887E-5,1.2848353944718837E-4,9.749342687427998E-4,4.474092740565539E-4,-3.15252342261374E-5,-6.474731402704493E-4,5.988724296912551E-5,4.643276566639543E-4,-6.937936137546785E-4,6.890312186442316E-4,-7.175139151513577E-4,3.5591374617069963E-4,-0.0014006788493134083,-4.605708469171077E-4,-4.2277516331523657E-4,0.0017867282644147054,4.993848269805312E-4,-0.0022832548478618265,1.8109210068359972E-4]                       |\n",
            "|The football team has been training hard for the upcoming season       |[8.251338537471989E-4,-0.0022638196630092957,0.0011950707412324846,5.74224628508091E-4,-0.0013813339561844864,-0.0025871925754472613,-0.0022956086904741824,-0.0010133813824116562,-0.0010419786388714176,9.162468874516586E-4,9.178805242603023E-4,0.0020773362290735045,-1.3808287136877576E-4,0.0016947159068270896,4.8180041388453293E-4,3.5915786187009263E-4,0.0021071221854072064,0.0019255169027019292,-5.910276983437749E-4,-9.052236030887191E-4,-0.0027610597123081484,-0.0012984170607523993,7.435174775309861E-4,-0.001510090020019561,0.0016657790984027088,3.142454515909776E-4,1.1852161454347272E-4,7.051644303525487E-4,-0.002512107814254705,-9.385042746240894E-4,-0.0015947918873280287,-8.635092526674271E-4,-0.001887844099352757,-9.728173996942738E-4,-0.0015432609167570868,-5.029644186530883E-4,-0.0012566373916342854,8.47674496374869E-4,0.0014303583205522348,0.002466348232701421,9.806695500932012E-4,0.001077792355014632,7.607066800119355E-4,-6.036324969803293E-4,0.0014203770163779457,4.420734476298094E-4,-0.0013303023394352445,-0.001639881598142286,-9.717006469145417E-4,0.0017850715084932745,5.703782274698217E-5,-2.145348892857631E-4,-3.719083033502102E-4,5.586964980466291E-4,5.686278843010465E-4,-7.216255083524932E-4,-0.0016583992861948595,5.774395152305563E-4,-3.784695096934835E-5,-4.243638638096551E-4,0.0016566423000767827,0.002417412218771157,-9.516366699244827E-4,-2.339955341691772E-4,-9.90565187142541E-4,7.476646790867865E-4,-3.2126405858434737E-4,2.8199727239552885E-5,-1.9810956049089629E-4,7.326945584888259E-5,-0.0017150825345500682,7.185752717001984E-5,1.2674380074410388E-4,0.0017432892345823348,3.682525906090935E-4,0.0010172834542269507,0.0012641849849993982,-0.0014850559722011287,-6.656790695463617E-4,-0.002125867259261819,2.077448492248853E-4,-7.470771864367027E-4,8.631137607153505E-4,0.002081556284489731,6.091998463186125E-4,-7.765546906739473E-4,-2.2863368455242986E-4,0.001041976463360091,-3.183471562806517E-4,-3.092644389350122E-4,2.859212157394116E-4,0.0013396693878651906,-0.0021161873619348626,-5.146562762092799E-5,-0.002649336044366161,0.0030780544232887523,8.127421412306527E-4,8.6169953768452E-4,7.489709241781384E-5,5.400005563084657E-4]                                  |\n",
            "|International relations are being discussed in diplomatic meetings     |[0.0024012298963498324,-0.0021917521953582764,0.002282525773625821,8.831026498228312E-4,-0.0010046369920019061,-1.723881345242262E-4,-0.0016723214299418033,4.2346352711319923E-4,-8.941791573306546E-4,-0.0030553769087418915,0.0016019417729694397,-4.068327834829688E-5,0.002540786727331579,0.0019960885401815176,1.936410553753376E-4,-0.0022769824601709845,0.0012420697938068772,2.3054229095578196E-4,2.75720632635057E-4,5.941762472502888E-4,-2.834433340467513E-4,-2.0032809115946295E-4,-0.0023462913814000785,0.0015166866825893522,5.442839028546587E-4,-1.5281065716408194E-4,-4.493253072723746E-5,4.782199626788497E-4,-0.0013775968691334128,3.243012557504699E-4,1.5043453313410283E-4,-3.9194348210003227E-4,-0.001488803350366652,-0.001235610037110746,-0.0010724202496930958,-8.088608970865607E-4,-5.511045921593905E-4,-0.0014864625612972305,1.5673618763685228E-4,-0.0025202299701049926,-0.0014709739363752306,-2.0774020813405514E-4,-0.0011402247888327112,-0.0022989468183368445,-0.0013534770114347339,3.563344478607178E-4,-9.408455109223724E-4,-0.0012998120859265328,-1.0103507665917278E-4,-0.0015571838594041765,-9.322967729531229E-4,-0.002101395546924323,-1.6432615520898253E-4,-4.1196105885319415E-4,-3.6872245837002996E-4,-6.479531672084704E-4,-3.7210232112556697E-4,-0.0015556574799120426,-8.317567757330836E-4,3.7740679254056887E-4,3.2710763043724005E-4,3.4542994399089366E-4,-0.0017116066766902805,5.553787690587342E-4,0.0016136755861225539,-1.355930930003524E-4,-1.4407937414944174E-4,4.6407171757891776E-4,3.5147641319781546E-4,-0.0010844388976693155,5.266498774290085E-4,7.326503400690854E-4,-5.722123431041837E-4,0.0022292315610684455,3.1685904832556844E-4,9.169149794615805E-4,2.5361031184729655E-4,1.6220505349338055E-4,1.6878031128726435E-4,7.82523478846997E-4,-0.0012387854687403888,0.0027527079393621537,0.002496442571282387,-0.0011399238544981926,-2.2432066034525633E-4,-0.001766352215781808,-0.0013138968497514725,7.554155541583896E-4,0.0015803814865648748,-0.0013717076741158964,-0.0028137168905232103,0.0010804417543113232,0.002269746069214307,-0.0023262379261723256,0.0015033711737487466,0.002985345805063844,-0.0017756415996700527,0.0019704534322954716,1.3833234552294016E-4,-0.0020743339322507382]|\n",
            "|The president addressed the nation in a live broadcast                 |[0.0026576705975458028,-4.852574784308672E-5,2.629749767947942E-4,-6.630695890635252E-4,-6.32972689345479E-4,-9.263317217119039E-4,0.0022782821441069247,-3.319187671877444E-4,-0.0015735533554106951,-0.001222523325122893,-6.65678468067199E-4,8.02049384219572E-4,-3.9438321255147457E-4,8.946969523094595E-4,0.002080286620184779,3.052415442653001E-4,-0.0017559362575411798,-7.531941286288203E-4,-0.0014253644971176983,-0.0015277746599167586,0.0015240398701280356,9.898445801809431E-4,-5.146096926182509E-4,-9.007774060592055E-4,0.0011989706195890905,-0.001963187498040497,-6.977415934670717E-4,-2.796017681248486E-4,6.750426255166531E-4,0.0017923993524163963,7.082556956447662E-4,8.582046255469323E-4,2.5667267036624255E-4,0.0010311762533092405,4.585096845403314E-4,-9.286640211939812E-4,0.0011069196858443321,8.281878428533674E-4,7.017380557954312E-5,-0.002360522341768956,9.425494703464211E-4,0.0017422948498278857,3.9068297483026984E-4,-7.61302886530757E-4,-0.001673664664849639,9.596190182492138E-4,2.204541233368218E-4,0.0016519881115527825,-1.481803134083748E-4,8.174744900316E-4,-2.866009861463681E-4,2.821622416377068E-4,-0.0014454780379310251,6.781027070246637E-4,0.0014427668385906145,0.001042389434951474,0.0011249243805650621,7.227996364235879E-4,-7.000646612141282E-4,0.002079854812473059,-0.0017167633399367333,-0.001617448609613348,-0.0015474393730983138,0.00223022575955838,0.0014755801734281705,-0.00239546662196517,0.0020984058035537602,-3.601047210395336E-4,0.0015375401249912103,-4.0010882075876E-4,-5.875068251043558E-4,-7.696275133639574E-5,-2.443356905132532E-4,8.643069420941175E-4,-5.851865195381833E-4,0.001152536435984075,-0.0017287315335124732,0.0016563246259465815,-4.6899970620870593E-4,4.6069083036854864E-4,7.561258273199201E-4,-6.280072499066591E-4,5.426964140497148E-4,0.0011992666171863676,-1.842594938352704E-4,2.485404722392559E-4,-0.00136015962343663,0.0014807702973484993,5.245951935648919E-4,-4.328694078139961E-4,7.09292758256197E-4,0.0010041762609034777,-5.654259934090078E-4,-8.780189789831639E-4,2.933675888925791E-4,4.505838849581778E-4,1.805773063097149E-4,6.711109017487615E-4,1.964507275260985E-4,1.6363628674298525E-4]                                                      |\n",
            "|Tennis players are practicing for the grand slam matches               |[-9.594824708377321E-4,-5.498169339261949E-4,9.898657056813438E-5,7.58352005505003E-4,9.92199027677998E-4,4.0165278672551114E-4,0.0016011229017749429,-6.395596622799833E-4,-0.0015519861869203546,-7.608720334246755E-4,8.373347130448867E-5,0.0019255929995172967,-5.042424254497746E-4,-1.1302283382974565E-4,0.0017385141951914798,0.001128492491261568,-0.002475238967842112,1.360483778019746E-4,-0.001993633113064182,6.361746151621142E-5,-7.330072718711259E-4,-8.065053092044157E-4,4.712622636967959E-4,-0.001024740660795942,-0.0010572863660248306,5.68621646380052E-4,-5.998637061566114E-4,-0.002477056288626045,-0.0029758408588046827,-0.0014435862734292944,5.095608745856831E-4,9.083148130836586E-4,-2.5785124550263083E-4,3.8713026394058636E-4,-2.1751622747008997E-4,-0.0015311421617904366,0.002122581674484536,-4.0032277562810725E-4,7.234449634173263E-4,1.1433484420801202E-4,-0.0010546516568865627,-0.00230034242849797,1.394889598789935E-4,-3.2358175182404614E-4,-6.500004674308002E-4,9.97636564231167E-4,3.8422989503790933E-4,2.453559233496586E-4,4.90587844979018E-4,3.365728965339561E-4,-1.1379762387756878E-4,-2.75529576659513E-4,-5.547084923212726E-4,9.248635712234924E-4,2.9076247786482173E-4,0.0016053280560299754,-2.0878736783439913E-4,0.0013645905419252813,0.0013921690018226702,-0.0011646207616043587,0.0013788776595902164,1.989219842168192E-4,-0.0024702669664596515,9.687374113127589E-4,0.0013272551683864244,-0.001298600904798756,-7.555856912707288E-4,4.498217701135824E-5,-0.0012551050216037158,-5.548854145066191E-4,3.1364615279017016E-4,-0.0024013035969498255,0.0017689512872796815,-2.3351293445254365E-4,9.698054054751992E-4,-8.457436633761972E-4,0.0010558214950530478,-0.0016488533195418615,9.432024574683358E-4,-9.879311546683311E-4,5.425200336806786E-4,0.001279432753411432,0.0020909131538549746,-0.0011237617582082748,4.325013724155724E-4,2.8282608642863727E-4,6.707181261541942E-4,-8.485034049954265E-5,0.0021771414418860027,-0.0014517171269593139,-3.6567940454309184E-4,-9.425993678936113E-4,5.4415023138669E-4,-6.693646137136966E-4,0.0012260873105939631,3.399112223026653E-4,-0.0015640513932642837,4.425776811937491E-5,-0.0031737917549132058,0.0022985376029585796]                                 |\n",
            "|Machine learning has revolutionized the way data is processed          |[2.732111606746912E-4,0.0023551584842304387,8.570121353841387E-4,-7.542653547716327E-4,2.797327712566281E-4,3.4961989877047017E-4,0.0011919960379600525,9.779266353386143E-5,-1.3020439564570552E-4,3.0346048394373304E-4,4.722525676091512E-4,0.0018020458325433233,-3.0148336372803897E-4,-7.947354558079193E-4,4.6415391746753204E-4,1.058005218510516E-4,-2.127160259988159E-4,-7.471009582028879E-4,3.343296702951193E-4,0.0019960269176711636,0.003953682685581346,0.0012246227900808055,-6.678382633253932E-4,1.636716672995438E-4,7.391943751523892E-4,0.0021556900658955174,3.921621294769769E-4,7.140505064550476E-4,-2.7759134536609054E-4,7.245290908031166E-4,-0.0012048540035417923,0.0011226430845757325,5.3136046820630625E-5,0.0010478522938986619,-0.0028323144894481325,0.0012376232528671,4.621368328419824E-4,-3.7703680573031306E-4,-0.0015623777435394004,-6.061174790374935E-4,-6.378137583548474E-4,0.0016595018484319248,0.002229065452411305,4.313892762487133E-4,2.7434535635014373E-4,6.7082554839241E-4,0.0015970207314239815,-1.7620465951040387E-4,-0.0013638644304592162,0.0017087255837395787,0.00118515877208362,9.202667861245573E-4,8.784560486674309E-4,-0.001948166541599979,-0.0020239915853987136,5.525833015174915E-4,0.0010292752704117447,-6.591166990498701E-4,0.0014649179453651109,1.6026928885063776E-4,-0.0014877426874591038,-0.0015220084508958582,3.7591987347695976E-4,0.0013704786882347737,2.5148747954517603E-4,5.933729601868738E-4,2.100789570249617E-4,-0.002076170193807532,9.835228314235185E-4,6.725715744930009E-4,-0.0022767713574770214,-0.001457370090065524,-9.198669868055731E-4,0.0018185306350157284,-0.003189586578325058,4.3412360052267707E-4,-0.0014505864819511771,-0.0017698915689834394,0.002396579327372213,0.0011873801753002529,7.842670214207221E-4,-0.0016073043952928856,-7.799936574883759E-4,7.324103207793087E-4,-1.5375395499480266E-4,7.573651576725144E-4,7.344401480319599E-4,-0.0015939393391211827,-0.0027736009239257933,-4.170460839911053E-4,-0.0013121914841273488,-9.828174952417612E-4,1.264804304810241E-4,0.0011827202203373113,0.001238977536559105,-0.0021457028148385384,-3.459893826705714E-4,4.1058822049914545E-4,-0.0018050707500757803,0.0010349808144383132]                                 |\n",
            "|Stock trading has become a popular way to build wealth                 |[0.001333670482771205,1.781030192172953E-4,9.902592781665068E-4,3.6524785848866614E-4,-2.15506564667781E-4,-9.535788974192525E-4,7.111230931643928E-4,2.536667494236358E-4,-0.0017996221639415514,-5.764741467178931E-4,0.0015751182405178302,0.00157905272707077,0.0011856351796138498,4.7685973446017925E-4,0.0017538250956152166,5.255565712494509E-4,6.248748499534225E-4,-2.203704955588494E-4,-0.0017248743014144044,5.264008983171412E-4,0.0015749038263623203,0.0021298478157924755,-4.933264572173357E-4,0.0024358709176470123,8.474447697933231E-4,0.001767305864112651,4.4594080619780077E-4,0.0016422978618980517,-0.002298518605779723,-0.001200324494025803,3.24596102083368E-5,-0.0016771839998130287,-6.598980606733156E-4,-9.68318449200264E-4,-5.407796041773898E-4,4.192356885011707E-5,0.0011009376030415297,0.0015385805662455302,1.276835976438763E-4,-0.0013805910046877604,-1.0408821149862238E-4,-5.642736889837709E-4,0.001248926815086244,-6.047716576306682E-4,-8.270190030868564E-4,0.0013880662487021514,0.0012512833013066224,0.0033682753731097493,-0.0013739767683936016,-0.0016249000493969235,-0.002361282327910885,-1.4088695336665426E-4,-5.073148640803993E-4,-0.001488381460408813,-0.001467289635911584,0.0011688351098980221,-3.2065557336734073E-4,0.002242321239983929,-3.105156065430492E-5,9.640164872897522E-4,-0.0012140990501003604,-5.759733695802943E-4,0.002303663524799049,-0.0016719158822005348,-3.782545183120029E-4,0.0013295120100208025,-6.199805564912302E-4,-7.125649717636406E-4,6.431270906302546E-4,-9.063076909764536E-4,9.32210574059614E-4,-6.368183697174702E-4,-0.0017059878446161747,0.0019782204222532785,-0.002337362484208175,-0.0020256820800048964,8.65958198638899E-4,0.0010659382034126402,0.002401294685634119,9.087702658559594E-5,4.2192485696952123E-4,-5.90410698870463E-6,1.1178402097097464E-4,-0.0016822325248670364,4.2079628162485145E-4,-2.0932850228356462E-4,4.851486197107338E-4,-4.2953199070845064E-4,-2.0857829076703638E-4,0.0011530039170923243,-0.0013965564014922294,-0.0022211014958364622,3.98420712112316E-5,5.067588353995234E-4,-3.924783813999966E-4,-8.556814510874183E-4,3.7720719618456703E-4,3.175543887274606E-5,-8.474978000906828E-5,0.001972174222048904]                                  |\n",
            "|5G technology is expected to significantly improve communication speeds|[8.347371227240988E-4,1.922083133000082E-4,-7.055001333355904E-4,0.0017707629511798065,4.458085084999246E-4,-4.85094912749316E-4,1.670528810271727E-4,-0.0024143912430320464,4.565924505836197E-5,-8.201649678604943E-4,6.156719277246987E-4,-5.401239031925797E-4,6.912078325902776E-4,-7.629990078774945E-4,-1.6025394558840032E-4,-7.315801880655011E-4,-6.028659013931506E-5,-5.315637307441128E-4,0.0012195766279806516,1.4034241238342863E-4,-0.0024641757419366123,-1.5969837217458655E-5,-0.0011532946789105023,0.001188374390559537,6.221477150185299E-4,0.002355184730341924,0.0027832664116950972,0.0021245799642721458,-0.002206613675558141,-0.0018075206441738243,-3.311757448370502E-4,-7.324989419430494E-4,8.48293923939179E-4,0.0016617431455025714,7.192720368038863E-4,-8.359929883486724E-4,-0.0013949787909431116,-9.465619389499937E-4,0.0015011822626027943,4.797621596870678E-4,-2.521250696320619E-5,9.348091054042535E-4,-0.001595177163835615,-1.1050540654520902E-4,-4.6602498124619676E-4,-0.001466776044773204,-0.001046977421667959,2.201042797033941E-4,-7.813279710100167E-4,0.001570624582070325,5.252383083903363E-4,6.99801611647542E-4,-2.080347538659615E-4,-3.034409019164741E-4,-0.0011921856047203098,-4.3876427454441516E-4,-6.115201727620193E-4,2.328082253890378E-4,4.414916142455435E-4,-0.002973752146187637,-6.962815698768411E-4,-5.172354774133835E-4,0.0023234593266222093,0.0017679199809208512,0.0016601091442030986,-0.001441065691843895,3.728281933165687E-4,-1.1921270717201487E-4,-5.259848569819171E-4,-5.823407243172239E-4,-3.443878709471651E-4,0.0028641238708847334,-9.457049891352654E-4,0.0022585586910801275,-0.0010890709735187035,-4.891267412209084E-4,2.1546832119513835E-4,-0.0014214822856177176,7.035399155159081E-4,0.0018860661408065685,-4.565277475714018E-4,4.76959377660283E-4,-1.0305319613377962E-4,5.283489839972129E-4,-0.0010990443648292317,-7.95710482634604E-4,-0.0010150442571362614,0.0010428235130218256,-0.0017588965461722442,-0.0018066536576952785,4.894512572458812E-4,8.882788783271929E-4,4.92282590130344E-4,-9.874470789717244E-4,0.0015636043094023728,0.001514279533044568,7.730203048725212E-4,-1.353140770723777E-4,6.508869285296116E-4,-4.691423548917685E-5]                                  |\n",
            "|Political campaigns are gearing up for the upcoming elections          |[-0.0011905164225026966,-2.894773962907493E-4,3.22282942943275E-4,-0.0016862189397215844,-4.657726734876633E-4,-4.4238532427698374E-4,-9.214198216795922E-5,-0.0014845647383481264,0.0020239397912519053,0.0019065968052018436,8.881616406142712E-4,0.002251468785107136,-5.493359407410025E-4,-0.0019342167011927815,-5.194152588956059E-4,-0.0010952859302051365,0.0032382159493863586,5.230706301517785E-4,-0.00111335493857041,-0.001903608348220587,3.062662435695529E-4,-0.0023094620904885233,-9.266895183827729E-4,-1.365513540804386E-4,9.031892732309643E-4,0.0018701513297855856,-0.0015521470224484802,-0.003117732726968825,4.741617129184306E-4,0.0025627592578530314,-0.0032112705986946824,5.664996220730245E-4,-1.2385441223159433E-4,-6.27567048650235E-4,-0.0018085195682942868,-9.80605947552249E-4,0.0013603922445327044,0.0015135920955799522,-1.7303181812167168E-4,0.002319444005843252,0.0011568341462407262,-0.0024901932338252664,0.0019031161755265202,-0.0013141995295882225,0.001319905265700072,-0.0011508664814755321,0.0023222396150231364,-0.0018471592571586372,-2.451468608342111E-4,0.003412070032209158,0.003995734918862581,-6.284920964390039E-5,3.944690433854703E-4,-6.210352818015963E-4,0.0011875687399879099,-1.1102412827312946E-5,-4.2215509747620675E-4,0.0019615520024672153,-3.682812908664346E-4,-0.0032007270492613316,0.0032906407024711373,-6.973972718697041E-4,-4.846757743507624E-4,-0.0010169995483011007,-6.953282572794706E-4,0.0017994269474002067,-1.949210767634213E-4,-1.4216694398783147E-4,9.942395525285974E-4,7.995509775355459E-4,-6.328468851279468E-4,-2.090784371830523E-4,4.9810018390417104E-5,-9.492361146840267E-4,6.421693367883564E-4,-0.002909523085691035,-0.0013176943873986604,7.28735188022256E-4,0.0018214614596217872,-0.001117125852033496,4.908479750156403E-4,7.409095123875887E-5,1.2848353944718837E-4,9.749342687427998E-4,4.474092740565539E-4,-3.15252342261374E-5,-6.474731402704493E-4,5.988724296912551E-5,4.643276566639543E-4,-6.937936137546785E-4,6.890312186442316E-4,-7.175139151513577E-4,3.5591374617069963E-4,-0.0014006788493134083,-4.605708469171077E-4,-4.2277516331523657E-4,0.0017867282644147054,4.993848269805312E-4,-0.0022832548478618265,1.8109210068359972E-4]                       |\n",
            "|Machine learning has revolutionized the way data is processed          |[2.732111606746912E-4,0.0023551584842304387,8.570121353841387E-4,-7.542653547716327E-4,2.797327712566281E-4,3.4961989877047017E-4,0.0011919960379600525,9.779266353386143E-5,-1.3020439564570552E-4,3.0346048394373304E-4,4.722525676091512E-4,0.0018020458325433233,-3.0148336372803897E-4,-7.947354558079193E-4,4.6415391746753204E-4,1.058005218510516E-4,-2.127160259988159E-4,-7.471009582028879E-4,3.343296702951193E-4,0.0019960269176711636,0.003953682685581346,0.0012246227900808055,-6.678382633253932E-4,1.636716672995438E-4,7.391943751523892E-4,0.0021556900658955174,3.921621294769769E-4,7.140505064550476E-4,-2.7759134536609054E-4,7.245290908031166E-4,-0.0012048540035417923,0.0011226430845757325,5.3136046820630625E-5,0.0010478522938986619,-0.0028323144894481325,0.0012376232528671,4.621368328419824E-4,-3.7703680573031306E-4,-0.0015623777435394004,-6.061174790374935E-4,-6.378137583548474E-4,0.0016595018484319248,0.002229065452411305,4.313892762487133E-4,2.7434535635014373E-4,6.7082554839241E-4,0.0015970207314239815,-1.7620465951040387E-4,-0.0013638644304592162,0.0017087255837395787,0.00118515877208362,9.202667861245573E-4,8.784560486674309E-4,-0.001948166541599979,-0.0020239915853987136,5.525833015174915E-4,0.0010292752704117447,-6.591166990498701E-4,0.0014649179453651109,1.6026928885063776E-4,-0.0014877426874591038,-0.0015220084508958582,3.7591987347695976E-4,0.0013704786882347737,2.5148747954517603E-4,5.933729601868738E-4,2.100789570249617E-4,-0.002076170193807532,9.835228314235185E-4,6.725715744930009E-4,-0.0022767713574770214,-0.001457370090065524,-9.198669868055731E-4,0.0018185306350157284,-0.003189586578325058,4.3412360052267707E-4,-0.0014505864819511771,-0.0017698915689834394,0.002396579327372213,0.0011873801753002529,7.842670214207221E-4,-0.0016073043952928856,-7.799936574883759E-4,7.324103207793087E-4,-1.5375395499480266E-4,7.573651576725144E-4,7.344401480319599E-4,-0.0015939393391211827,-0.0027736009239257933,-4.170460839911053E-4,-0.0013121914841273488,-9.828174952417612E-4,1.264804304810241E-4,0.0011827202203373113,0.001238977536559105,-0.0021457028148385384,-3.459893826705714E-4,4.1058822049914545E-4,-0.0018050707500757803,0.0010349808144383132]                                 |\n",
            "|Investors are looking for high-yield bonds in the current market       |[-0.001141124249746402,-8.684705923466632E-4,0.001800471586951365,0.0018645042631154258,7.121836242731661E-4,-0.00206959949961553,4.748497546340028E-4,-1.7257685734269518E-4,6.857335344344998E-4,-0.001152005725695441,-9.674705409755309E-4,-9.605345355036358E-4,1.5421635665309924E-4,-0.001283098419662565,-0.0011954689337774955,-7.651225896552205E-4,-6.019638434130077E-4,0.0013855424670812984,2.085494828255226E-4,-6.629709920768315E-4,-9.920559629487493E-4,-0.0015452195754429945,-0.0014797178640340765,5.341852471853296E-4,-0.0011734273599965186,-2.7656972815748304E-4,-5.340945887534568E-4,-0.0011851045419462025,-0.001769738815103968,6.948360338962326E-4,0.001658048383736362,8.293644059449434E-4,2.678589856562515E-4,6.139381487931435E-4,8.140003628795967E-4,6.098407708729306E-4,-5.723491546329266E-4,0.0012787726021391184,-6.158365188942601E-4,-0.0024397220404352993,0.001651336208548552,8.79994729378571E-4,-0.0012916152336401865,2.3523250032061088E-4,-0.0015274130613155041,-0.0015620037108116471,6.631398719036952E-4,5.478768337828417E-4,1.0599426362508287E-4,-7.801082392688841E-4,8.888359686049322E-4,0.0024477181165517927,-9.168082615360618E-4,0.0018616045902793605,-0.001107074514341851,0.0014609725719007352,-0.0020611940999515355,4.8032282696415976E-5,-0.0018077859955762201,-3.295863280072808E-5,5.362727291261156E-4,4.883217431294421E-4,0.001481991154529775,0.0010388728163282697,-0.0011744062649086118,0.0010349572403356433,-0.0016656417380242297,-9.223535695734123E-4,-1.975246977963252E-4,-0.0012711035985072763,-0.0013948908696571984,5.237022414803505E-4,8.136544299001494E-5,0.0016946216928772628,-8.006815914995968E-4,8.79217133236428E-4,-5.171675778304536E-4,4.949487435321013E-4,-2.037431695498526E-4,0.002327481439958016,0.0028775812400757177,-5.900085670873523E-4,5.588072817772627E-4,3.759352014943336E-4,-5.695048700241993E-4,-9.445676696486771E-4,-5.283311256789602E-4,-0.001568644792617609,0.0016368265302541354,3.549241228029132E-5,-5.161918622131149E-4,1.5998205829722185E-5,-1.1048933568721016E-4,5.61755596815298E-4,5.528973221468428E-4,1.9089263029551753E-4,-4.0209992827537156E-4,-0.0010254447406623513,0.001162638068005132,0.002453898367093643]                                  |\n",
            "|Quantum computing holds promise for solving complex problems           |[9.549835023270653E-4,-7.607679414962018E-4,-6.388423748181334E-4,-0.0013608128314704768,7.701731270312198E-4,0.0011192068029361377,-4.068795325500624E-5,-0.001175724610220641,2.7867488928937485E-4,3.867084181235571E-4,3.8495854823850095E-4,-7.604232357282723E-4,-6.417426047846675E-4,2.591990367883617E-4,0.0023497906014589326,1.252488520029666E-4,-8.201290578914007E-4,-8.493187072287713E-4,2.573289259869073E-4,9.769469314570803E-4,-4.064745055854603E-4,0.0011571846012624779,7.913256226207262E-4,0.0023205756276313745,4.6531454427167773E-4,8.841951577258961E-4,0.0011030741152353585,0.0015114449800291497,-0.0014642450093690837,6.150089611764997E-4,-6.578208610465351E-4,1.2595169911427156E-4,-3.4816155675798655E-4,-3.555654205099147E-4,-0.0014233806557188342,-1.5024690739145235E-4,2.7925334039277265E-4,9.365188722897852E-4,1.7910751921590418E-4,-7.577858798738037E-4,3.774817783518561E-4,6.961157944585596E-4,0.0014132012849066605,-0.0012440573690193038,0.0022482097930540995,-1.5629837954682962E-6,-6.046341025337045E-4,-9.958931644048009E-6,-1.2336746190807647E-4,3.4566516322749E-4,-7.485031216804469E-4,5.632397120020219E-4,-5.1202919816465245E-5,9.357296845077404E-4,-9.676261553457671E-4,0.0013410233493362153,-0.0010058580165995018,0.0011452236212790012,-0.0013806896625153187,-0.0012292363348283938,0.0029000156667150024,-0.0010133949201969828,2.422051371208259E-4,-0.0016057769264859545,-2.977375739387103E-4,1.363215664501435E-4,8.976289994149868E-4,-0.0013909658383844154,-3.9360480150207877E-4,7.498599256255796E-4,7.221831973376018E-5,-0.0011018585230756018,0.0014843983974839959,-7.92137297269489E-4,-0.0019890619540612014,0.00160393961778027,7.060683897829481E-4,-0.0016774442046880722,5.031374998257628E-4,7.787489864443029E-5,-0.0011443490844352969,-0.001857182177315865,0.001749080472758838,0.001977051905539286,6.706138842024041E-4,8.31747252959758E-4,-0.0016802472611224012,-0.0013248824148571917,0.001838414422568998,0.0017396966577507555,0.002597748039988801,2.0188909755753618E-4,-0.001636005805007049,-0.0010912115685641766,-0.001956802514281922,-6.706553145444819E-4,4.3333837363336764E-4,-0.0021939039662746446,-6.736105902486347E-4,-0.0016494522070778267]                            |\n",
            "|Cloud computing is becoming increasingly important for businesses      |[-0.0013035552910878323,0.001647993572987616,-3.67459363284676E-4,8.434196546052892E-4,-0.001447355830653881,7.043843700860937E-4,0.0012243633100297302,0.0015407461372281734,0.0013335138282855041,-0.001355230361999323,-1.1656831096236903E-5,9.84251140228783E-4,0.0011670102321659215,-6.22124539707632E-4,0.0011892962211277336,-2.5553904318561155E-4,0.0014083106070756912,-2.089372428599745E-4,0.0020790522491248944,-3.497454417811241E-5,7.951292306339989E-4,-8.692647194645057E-4,-3.703148104250431E-4,2.0024151308462024E-4,-6.671108567388728E-4,0.0016632164964297165,0.001201000646688044,0.0018727744366818417,-0.0016267499498402078,0.002096256104171819,-0.0013072639509725073,8.351691843320925E-4,-0.0027265276100176075,-0.0011505268970116351,-0.0018200161284767091,-0.0015065853270546843,-2.4807339650578797E-4,-0.0010717117323414034,7.854157496088494E-4,5.887608470705648E-4,0.002615874807815999,1.1640358328198392E-5,-0.0012836001502970853,-0.001180371684313286,0.001431068405508995,-0.002183766511734575,0.0020235738678214448,-7.328530676507701E-4,-4.1621318086981773E-4,-0.0014142259606160223,-1.3978578499518335E-4,6.903339138564963E-4,3.986061262063837E-4,0.0018133058620151132,9.637251108263929E-4,-0.0018996036378666759,3.030840404486904E-4,0.001161539121919001,8.900212221002827E-4,-0.0015537454067574192,5.775780106584231E-4,-9.737809802269718E-4,2.9872029942149914E-4,1.0212867831190427E-4,4.483328666538E-5,-1.539214669416348E-4,0.002934654631341497,-3.047616513261649E-4,-0.0019604816916398704,7.448870407339806E-4,-3.6781825474463403E-4,-0.002538378699682653,-2.8505001682788134E-4,6.443904082213217E-5,0.0017115740223137739,0.0013279852913304542,9.588496565508345E-4,0.0017175107301833728,7.505016537834308E-4,-1.0194675996899605E-4,-0.0010791494181224455,0.0011193495496020962,-3.339577791242239E-4,9.355478250654414E-4,2.1689188846115332E-5,1.26025681917478E-4,0.0013287079345900565,-4.439844148388753E-5,0.0017179759549132236,-0.0023155051652186858,-4.56337962532416E-4,0.0010026869228264936,-0.0023820915569861727,-0.0015929276899745066,9.811320220857547E-4,3.631272484199144E-4,-0.0015504496307888378,-0.0010707100833921381,5.328533394883076E-4,-0.0011723832382510104]                           |\n",
            "|The Formula 1 race track is set to host the next grand prix            |[5.604652914270344E-4,-2.688659668718982E-4,-2.8247841207000113E-4,6.846859469078481E-4,5.818173296777079E-4,-2.2931532132335834E-4,-9.499862305043886E-4,5.680723503852884E-4,-7.93286938763534E-4,0.0012334632532050212,1.4788542951767641E-4,-7.121104152045316E-4,0.0012369494878738704,-0.0021265427171278536,0.0018672691670265824,0.0010599464553201364,-0.001345418768727945,-0.0012201082976793663,6.957742152735591E-5,-6.961100411394404E-4,0.0015653445928667982,1.1200932527167929E-7,0.0022795592150133518,0.0016508036998048837,-6.782418737808863E-4,0.0014296866073790523,-8.126286734800992E-4,-6.016611069854762E-4,-0.0010143414288500531,-2.799764333758503E-4,-7.21886469465163E-4,2.3770440990726152E-4,0.0029084928747680453,3.283131049506159E-4,-0.001995320988094641,6.801344409015857E-4,2.0089394335324563E-5,5.651397578832175E-4,-3.4296687226742506E-4,-2.573851702941788E-4,-0.0011684052620290054,-4.2090737163865316E-4,-4.904134596775596E-4,-0.00265375163548419,-0.0015212213652881067,0.0019258221792471076,3.194136079400778E-4,-4.685490081707636E-4,4.0041329339146614E-4,-0.0013728060552643405,-0.0016420242383093054,2.4061022041779425E-4,8.306348689883533E-4,-8.258422571493106E-4,-7.976866779952413E-5,6.480860692034992E-4,7.477988320816722E-5,-0.0013215918572516076,0.0014304568952259917,-3.925566690870457E-4,0.0014318888230870166,0.0011510662152431905,-0.001223575867091616,0.0013209181973555435,3.8940145168453455E-4,1.0485145159893565E-4,3.018719402866231E-4,-3.743131372983852E-4,1.1506875226688053E-4,5.011506081144842E-4,-4.5063024703671946E-4,-0.002156891150257757,-1.6215551618693604E-5,0.0012168351774259159,0.0012762129449078606,2.2134544027115527E-4,-0.001085288890559847,-3.96664386951468E-4,-0.0015028034944811629,-0.001400271629487785,-1.2128686325417624E-4,-9.487668188133587E-4,0.001608082908205688,5.355618078384496E-4,8.42505251057446E-5,-1.597865711018029E-4,-0.0019269484716157117,-5.222948432977621E-5,-3.4417313226084743E-4,-0.0013260610996642045,-1.9607603705177704E-4,5.345572976188527E-4,3.778456205812593E-5,-0.0016970822293337227,0.0014030224346141848,0.0011778669205442483,5.437648570578959E-4,7.866061577159497E-4,-1.1581484836319253E-4,7.473127593079375E-4]                      |\n",
            "|Financial experts are advising on diversifying investment portfolios   |[4.858468115950624E-4,-0.0011434950671779611,0.002814821929253715,0.0018899257581021325,-0.002061255969844448,-3.278968846037363E-4,-0.0012805775234786172,3.043129236175446E-4,3.206470670799414E-4,-2.1325709531083703E-4,-0.0011968799323464432,-0.0017099748753632107,-3.513016999932006E-4,-0.0012822032513213344,-6.03743069708192E-4,3.6344927866593935E-4,-0.0021411987642447152,-0.00286984647391364,0.0014406104067650933,4.304984662060936E-4,-7.120906957425177E-4,0.0015037900884635746,-8.752438491986443E-4,2.3750548158811094E-4,0.0011102098518070609,-6.150009964282313E-5,-8.588946645128696E-4,0.0012726521817967296,-0.0036610767904979484,-0.002004391125713785,2.582960344928627E-5,3.295974262679616E-4,-0.0021282104523076364,-0.002527765328219781,0.0015142177774881322,0.0012657161181171734,-8.439934366227437E-4,0.001690661592874676,0.0022765095733727017,-0.001976498907121519,8.9628553056779E-4,-0.0013660469606596355,-9.625921593396924E-4,-6.376608507707715E-4,-5.769670048418144E-4,5.784141152010609E-4,-8.276294878063102E-4,-0.0011398073790284493,-4.256735798359538E-4,-0.001927143952343613,-4.888547506804267E-4,0.0020503181569135145,3.8761384591149783E-4,-1.7236010171473026E-4,0.0018618007209928085,-0.0018505350647804637,-0.002084085145421947,7.316707924474031E-4,0.0017639665699486309,5.896342142174641E-4,7.874952668013672E-4,9.668465888050074E-4,-1.385249440014983E-4,-0.0016746491310186684,-9.58196028174522E-4,7.887217604244748E-4,0.001374965300783515,-0.0012370675491789975,-6.544247347240646E-4,-0.003197430033954636,0.0018633472306343415,7.441449270118028E-4,-0.0017338494750826308,-1.9382961909286678E-4,4.085203242235972E-4,0.0014132576373716195,-0.0015376749312660345,3.313087897064785E-4,0.0011604165204820067,3.836047059545914E-4,-9.187849767234486E-4,8.098380931187421E-4,-4.3229911534581333E-4,6.540577354220052E-4,-8.739249460631981E-4,-2.7696470957986696E-4,4.765283859645327E-4,5.09855378671394E-4,6.875496280069152E-4,0.00127439180505462,-8.440773478165889E-4,4.899187091117103E-4,-2.9377548101668555E-4,-0.0011131911305710673,-0.003215091334520063,7.385618579670942E-4,-0.003104421552658702,-0.0012431799162489672,-5.458377030057211E-4,4.420859865300978E-4]                              |\n",
            "|Stock trading has become a popular way to build wealth                 |[0.001333670482771205,1.781030192172953E-4,9.902592781665068E-4,3.6524785848866614E-4,-2.15506564667781E-4,-9.535788974192525E-4,7.111230931643928E-4,2.536667494236358E-4,-0.0017996221639415514,-5.764741467178931E-4,0.0015751182405178302,0.00157905272707077,0.0011856351796138498,4.7685973446017925E-4,0.0017538250956152166,5.255565712494509E-4,6.248748499534225E-4,-2.203704955588494E-4,-0.0017248743014144044,5.264008983171412E-4,0.0015749038263623203,0.0021298478157924755,-4.933264572173357E-4,0.0024358709176470123,8.474447697933231E-4,0.001767305864112651,4.4594080619780077E-4,0.0016422978618980517,-0.002298518605779723,-0.001200324494025803,3.24596102083368E-5,-0.0016771839998130287,-6.598980606733156E-4,-9.68318449200264E-4,-5.407796041773898E-4,4.192356885011707E-5,0.0011009376030415297,0.0015385805662455302,1.276835976438763E-4,-0.0013805910046877604,-1.0408821149862238E-4,-5.642736889837709E-4,0.001248926815086244,-6.047716576306682E-4,-8.270190030868564E-4,0.0013880662487021514,0.0012512833013066224,0.0033682753731097493,-0.0013739767683936016,-0.0016249000493969235,-0.002361282327910885,-1.4088695336665426E-4,-5.073148640803993E-4,-0.001488381460408813,-0.001467289635911584,0.0011688351098980221,-3.2065557336734073E-4,0.002242321239983929,-3.105156065430492E-5,9.640164872897522E-4,-0.0012140990501003604,-5.759733695802943E-4,0.002303663524799049,-0.0016719158822005348,-3.782545183120029E-4,0.0013295120100208025,-6.199805564912302E-4,-7.125649717636406E-4,6.431270906302546E-4,-9.063076909764536E-4,9.32210574059614E-4,-6.368183697174702E-4,-0.0017059878446161747,0.0019782204222532785,-0.002337362484208175,-0.0020256820800048964,8.65958198638899E-4,0.0010659382034126402,0.002401294685634119,9.087702658559594E-5,4.2192485696952123E-4,-5.90410698870463E-6,1.1178402097097464E-4,-0.0016822325248670364,4.2079628162485145E-4,-2.0932850228356462E-4,4.851486197107338E-4,-4.2953199070845064E-4,-2.0857829076703638E-4,0.0011530039170923243,-0.0013965564014922294,-0.0022211014958364622,3.98420712112316E-5,5.067588353995234E-4,-3.924783813999966E-4,-8.556814510874183E-4,3.7720719618456703E-4,3.175543887274606E-5,-8.474978000906828E-5,0.001972174222048904]                                  |\n",
            "|Stock trading has become a popular way to build wealth                 |[0.001333670482771205,1.781030192172953E-4,9.902592781665068E-4,3.6524785848866614E-4,-2.15506564667781E-4,-9.535788974192525E-4,7.111230931643928E-4,2.536667494236358E-4,-0.0017996221639415514,-5.764741467178931E-4,0.0015751182405178302,0.00157905272707077,0.0011856351796138498,4.7685973446017925E-4,0.0017538250956152166,5.255565712494509E-4,6.248748499534225E-4,-2.203704955588494E-4,-0.0017248743014144044,5.264008983171412E-4,0.0015749038263623203,0.0021298478157924755,-4.933264572173357E-4,0.0024358709176470123,8.474447697933231E-4,0.001767305864112651,4.4594080619780077E-4,0.0016422978618980517,-0.002298518605779723,-0.001200324494025803,3.24596102083368E-5,-0.0016771839998130287,-6.598980606733156E-4,-9.68318449200264E-4,-5.407796041773898E-4,4.192356885011707E-5,0.0011009376030415297,0.0015385805662455302,1.276835976438763E-4,-0.0013805910046877604,-1.0408821149862238E-4,-5.642736889837709E-4,0.001248926815086244,-6.047716576306682E-4,-8.270190030868564E-4,0.0013880662487021514,0.0012512833013066224,0.0033682753731097493,-0.0013739767683936016,-0.0016249000493969235,-0.002361282327910885,-1.4088695336665426E-4,-5.073148640803993E-4,-0.001488381460408813,-0.001467289635911584,0.0011688351098980221,-3.2065557336734073E-4,0.002242321239983929,-3.105156065430492E-5,9.640164872897522E-4,-0.0012140990501003604,-5.759733695802943E-4,0.002303663524799049,-0.0016719158822005348,-3.782545183120029E-4,0.0013295120100208025,-6.199805564912302E-4,-7.125649717636406E-4,6.431270906302546E-4,-9.063076909764536E-4,9.32210574059614E-4,-6.368183697174702E-4,-0.0017059878446161747,0.0019782204222532785,-0.002337362484208175,-0.0020256820800048964,8.65958198638899E-4,0.0010659382034126402,0.002401294685634119,9.087702658559594E-5,4.2192485696952123E-4,-5.90410698870463E-6,1.1178402097097464E-4,-0.0016822325248670364,4.2079628162485145E-4,-2.0932850228356462E-4,4.851486197107338E-4,-4.2953199070845064E-4,-2.0857829076703638E-4,0.0011530039170923243,-0.0013965564014922294,-0.0022211014958364622,3.98420712112316E-5,5.067588353995234E-4,-3.924783813999966E-4,-8.556814510874183E-4,3.7720719618456703E-4,3.175543887274606E-5,-8.474978000906828E-5,0.001972174222048904]                                  |\n",
            "+-----------------------------------------------------------------------+----------------------------------------------------------------------------------------------------------------------------------------------------------------------------------------------------------------------------------------------------------------------------------------------------------------------------------------------------------------------------------------------------------------------------------------------------------------------------------------------------------------------------------------------------------------------------------------------------------------------------------------------------------------------------------------------------------------------------------------------------------------------------------------------------------------------------------------------------------------------------------------------------------------------------------------------------------------------------------------------------------------------------------------------------------------------------------------------------------------------------------------------------------------------------------------------------------------------------------------------------------------------------------------------------------------------------------------------------------------------------------------------------------------------------------------------------------------------------------------------------------------------------------------------------------------------------------------------------------------------------------------------------------------------------------------------------------------------------------------------------------------------------------------------------------------------------------------------------------------------------------------------------------------------------------------------------------------------------------------------------------------------------------------------------------------------------------------------------------------------------------------------------------------------------------------------------------------------------------------------------------------------------------------------------------+\n",
            "only showing top 20 rows\n",
            "\n"
          ]
        }
      ]
    },
    {
      "cell_type": "code",
      "source": [
        "# Split Data\n",
        "train_data_w2v, test_data_w2v = df.randomSplit([0.8, 0.2], seed=42)\n",
        "\n",
        "# Train Model\n",
        "lr_w2v = LogisticRegression(featuresCol=\"featuresW2Vector\", labelCol=\"label\")\n",
        "lr_w2v_model = lr_w2v.fit(train_data_w2v)\n",
        "\n",
        "# Predictions\n",
        "predictions_w2v = lr_w2v_model.transform(test_data_w2v)\n",
        "predictions_w2v.select(\"text\", \"category\", \"prediction\").show(truncate=False)\n",
        "\n",
        "# Evaluate Model Accuracy\n",
        "accuracy_w2v = evaluator.evaluate(predictions_w2v)\n",
        "print(f\"Word2Vec Model Accuracy: {accuracy_w2v:.2f}\")"
      ],
      "metadata": {
        "colab": {
          "base_uri": "https://localhost:8080/"
        },
        "id": "_OSvhJSBA23T",
        "outputId": "0c80591e-3a3c-4d82-e4dc-d52ccd756989"
      },
      "execution_count": 32,
      "outputs": [
        {
          "output_type": "stream",
          "name": "stdout",
          "text": [
            "+--------------------------------------------------------------------+----------+----------+\n",
            "|text                                                                |category  |prediction|\n",
            "+--------------------------------------------------------------------+----------+----------+\n",
            "|Machine learning has revolutionized the way data is processed       |Technology|1.0       |\n",
            "|The president addressed the nation in a live broadcast              |Politics  |2.0       |\n",
            "|Machine learning has revolutionized the way data is processed       |Technology|1.0       |\n",
            "|Investors are looking for high-yield bonds in the current market    |Finance   |2.0       |\n",
            "|Cloud computing is becoming increasingly important for businesses   |Technology|1.0       |\n",
            "|International relations are being discussed in diplomatic meetings  |Politics  |3.0       |\n",
            "|The Formula 1 race track is set to host the next grand prix         |Sports    |0.0       |\n",
            "|Financial experts are advising on diversifying investment portfolios|Finance   |2.0       |\n",
            "+--------------------------------------------------------------------+----------+----------+\n",
            "\n",
            "Word2Vec Model Accuracy: 0.88\n"
          ]
        }
      ]
    },
    {
      "cell_type": "code",
      "source": [],
      "metadata": {
        "id": "no7nY8FQA-Uq"
      },
      "execution_count": null,
      "outputs": []
    }
  ]
}